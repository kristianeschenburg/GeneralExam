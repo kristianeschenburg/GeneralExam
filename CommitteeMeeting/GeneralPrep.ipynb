{
 "cells": [
  {
   "cell_type": "markdown",
   "metadata": {},
   "source": [
    "# General Plan"
   ]
  },
  {
   "cell_type": "markdown",
   "metadata": {},
   "source": [
    "### Aim 1:  Cortical Mapping Via Connectivity-Based Classification\n",
    "\n",
    "Eschenburg, Kristian M., Haynor, David, Grabowski, Tom. [Automated Connectivity-Based Cortical Mapping Using Registration-Constrained Classification](https://www.spiedigitallibrary.org/conference-proceedings-of-spie/10578/105782T/Automated-connectivity-based-cortical-mapping-using-registration-constrained-classification/10.1117/12.2293968.short?SSO=1). SPIE Medical Imaging. February, 2018. Houston, Texas."
   ]
  },
  {
   "cell_type": "markdown",
   "metadata": {},
   "source": [
    "### Aim 2: Analysis of Non-Parametric Bayesian Approach to Cortical Mapping\n",
    "\n",
    "**Overview:**\n",
    " - Method to parcellate the cortex using non-parametric Bayesian approach, that can be applied to whole brain, or regionally.\n",
    " - Incorporate edge prior into model to examine how **prior probabilities derived from resting-state**  impact MAP parcellation.\n",
    " \n",
    "**Goal:**\n",
    " - Methods paper\n",
    "\n",
    "**Ideas:**\n",
    " - Apply dd-CRP to regionalized resting-state diffusion and combined features for whole brain connectivity-based parcellation.  \n",
    " \n",
    " - Apply dd-CRP to parcellate IPL using diffusion features\n",
    "     - Incorporate edge prior probabilities\n",
    "         - prior probabilities based on shared inclusion in resting state network (RSN) components\n",
    "             - compute RSNs using either ICA or DMD\n",
    "         - sclaing parameter on prior to modulate prior influence\n",
    "     \n",
    "**Progress:**\n",
    " - code for:\n",
    "     - dd-CRP assuming feature independence (inverse Chi-squared model)\n",
    "     - dd-CRP assuming feature dependence (inverse Wishart model)\n",
    "     \n",
    "**To-Do:**\n",
    " - develop code for:\n",
    "     - computing edge prior probabilities based on resting-state network inclusion\n",
    "         - Possibilities:\n",
    "             - use sample-covariance structure of RSN components\n",
    "             - apply some exponential kernel to difference of neighboring vertex RSN components\n",
    "\n",
    "**Related Papers:**\n",
    " - Jbabdi et al.  [Multiple-subjects connectivity-based parcellation using hierarchical Dirichlet process mixture models](https://www.sciencedirect.com/science/article/pii/S1053811908009774?via%3Dihub).\n",
    " - Baldassano et al. [Parcellating Connectivity In Spatial Maps](https://www.ncbi.nlm.nih.gov/pubmed/25737822)\n",
    " - Moyer et al. [A Restaurant Process Mixture Model for Connectivity-Based Parcellation of the Cortex](https://arxiv.org/pdf/1703.00981.pdf)"
   ]
  },
  {
   "cell_type": "markdown",
   "metadata": {},
   "source": [
    "### Aim 3: Connectopic Organization of the Cortex\n",
    "\n",
    "**Overview:**\n",
    " - Study connectopic organization between pairs of cortical regions.\n",
    "\n",
    "**Goal:**\n",
    " - Journal paper\n",
    "\n",
    "**Questions:**\n",
    " - Are there spatial relationships between source and target connectivity sites?\n",
    "     - Approaches: \n",
    "         - Model relationship as linear transformation\n",
    "         - Compare information content between source and target regions using mutual information (MI)\n",
    "     - Coordinate basis options:\n",
    "         - 3d-spatial coordinates\n",
    "         - 2d-eigenvectors of whole-brain graph-lapacian\n",
    "         - 2d-eigenvectors of regional connectivity-based laplacians (encode local connectivity gradients -- which connectivity to use?)\n",
    "         \n",
    "         \n",
    " - Are spatial relationships modulated by folding patterns and geometry?\n",
    "     - incorporate sulcal depth, curvature, and myelin density into linear model\n",
    "     \n",
    "     \n",
    " - Do spatial relationships display interesting directed network characteristics?\n",
    "     - Each region pair summarized by MI or $R^{2}$\n",
    "     - Conventional notions of \"degree\" or \"betweeness\" characterize how \"organized\", overall, a region is with respect to its outgoing streamlines to the rest of the brain\n",
    "\n",
    "**Progress:**\n",
    " - complete code for computing:\n",
    "     - coordinate bases:\n",
    "         - 3d Euclidean-space coordinates\n",
    "         - whole-brain graph Laplacians\n",
    "         - region-based graph Laplacians\n",
    "     - spatial relationships:\n",
    "         - compute linear transformation, agnostic to basis\n",
    "         - compute $R^{2}$\n",
    "         - compute MI\n",
    "         \n",
    "**To-Do:**\n",
    " - develop / find network analysis code\n",
    " - multivariate / multi-layer networks?"
   ]
  },
  {
   "cell_type": "markdown",
   "metadata": {},
   "source": [
    "### Aim 4: Motion-Artifact Correction Using Convolutional Networks\n",
    "\n",
    "**Overview:**\n",
    " - Can we using CNNs and deep learning for remove motion artifacts in structural T1 images?\n",
    " \n",
    "**Goal:**\n",
    " - Methods paper\n",
    "     \n",
    "**Ideas:**\n",
    " - Synthetically rotate and translate clean T1 data and \"add\" synthetic motion to original T1\n",
    " - Given synthetically corrupted T1 as input, and clean T1 as output, train CNN to predict motion-corrected structural image\n",
    "\n",
    "**Progress:**\n",
    " - complete code for:\n",
    "     - sampling synthetic rotations/translations from distribution of real motion patterns (parameters computed from fMRI motion corrections)\n",
    "     - generate synthetic motion-corrupted images by via linear combination of corrupted and real images\n",
    "     - CNN framework to learn mapping between motion-corrupted and clean images\n",
    "\n",
    "**To Do:**\n",
    " - apply sythetic motion via phase shifts in k-space\n",
    " - train model to learn motion patterns\n",
    " - speed up training with GPUs\n",
    " - narrow down which cost function and optimization algorithm to use\n",
    " - test on real, motion-corrupted datasets and compare to current state-of-art clearning tools"
   ]
  },
  {
   "cell_type": "markdown",
   "metadata": {},
   "source": [
    "### Aim 5: Exporloring Temporal Dynamics of the Resting Brain\n",
    "\n",
    "Kunert-Graf, James, Eschenburg, Kristian M., Galas, David J., Kutz, Nathan, Rane, Swati D., Brunton, Bingni W. [Extracting Reproducible Time-Resolved Resting State Networks Using Dynamic Mode Decomposition](https://www.biorxiv.org/content/early/2018/06/08/343061). bioRxiv pre-print. 2018."
   ]
  }
 ],
 "metadata": {
  "kernelspec": {
   "display_name": "Python 3",
   "language": "python",
   "name": "python3"
  },
  "language_info": {
   "codemirror_mode": {
    "name": "ipython",
    "version": 3
   },
   "file_extension": ".py",
   "mimetype": "text/x-python",
   "name": "python",
   "nbconvert_exporter": "python",
   "pygments_lexer": "ipython3",
   "version": "3.6.5"
  }
 },
 "nbformat": 4,
 "nbformat_minor": 2
}
