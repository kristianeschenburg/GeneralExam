{
 "cells": [
  {
   "cell_type": "code",
   "execution_count": 1,
   "metadata": {},
   "outputs": [],
   "source": [
    "from ddCRP import ddCRP\n",
    "from ddCRP import Priors\n",
    "\n",
    "from surface_utilities import adjacency\n",
    "\n",
    "import numpy as np\n",
    "import nibabel as nb\n",
    "from niio import loaded"
   ]
  },
  {
   "cell_type": "code",
   "execution_count": 2,
   "metadata": {},
   "outputs": [],
   "source": [
    "data_file = '/Users/kristianeschenburg/Desktop/Research/Data/CorticalRegionalization/Destrieux/RestingState/285345.L.Cortical.Regionalized.RestingState.aparc.a2009s.mat'\n",
    "label_file = '/Users/kristianeschenburg/Desktop/Research/Data/Labels/HCP/285345.L.CorticalAreas.fixed.32k_fs_LR.label.gii'\n",
    "surf_file = '/Users/kristianeschenburg/Desktop/Research/Data/Surfaces/285345.L.inflated.32k_fs_LR.surf.gii'"
   ]
  },
  {
   "cell_type": "code",
   "execution_count": 3,
   "metadata": {},
   "outputs": [],
   "source": [
    "# Load feature matrix\n",
    "data = loaded.load(data_file)\n",
    "[n,p] = data.shape\n",
    "if n < p:\n",
    "    data = data.T"
   ]
  },
  {
   "cell_type": "code",
   "execution_count": 4,
   "metadata": {},
   "outputs": [],
   "source": [
    "# Get indices of non-zero data samples\n",
    "indices = np.abs(data).sum(1) != 0\n",
    "idx = np.arange(data.shape[0])[indices]\n",
    "\n",
    "features = np.arange(data.shape[1])[np.var(data,axis=0) != 0]"
   ]
  },
  {
   "cell_type": "code",
   "execution_count": 5,
   "metadata": {},
   "outputs": [],
   "source": [
    "# Load surface, generate adjacency list\n",
    "surface = nb.load(surf_file)\n",
    "vertices = surface.darrays[0].data\n",
    "faces = surface.darrays[1].data\n",
    "\n",
    "S = adjacency.SurfaceAdjacency(vertices=vertices,faces=faces)\n",
    "S.generate()\n",
    "\n",
    "# Filter adjacency list\n",
    "filtered = S.filtration(S.adj,filter_indices=idx,remap=True)"
   ]
  },
  {
   "cell_type": "code",
   "execution_count": 6,
   "metadata": {},
   "outputs": [
    {
     "name": "stdout",
     "output_type": "stream",
     "text": [
      "Keys in adj list: 29696\n"
     ]
    }
   ],
   "source": [
    "print('Keys in adj list: {:}'.format(len(filtered.keys())))"
   ]
  },
  {
   "cell_type": "code",
   "execution_count": 7,
   "metadata": {},
   "outputs": [],
   "source": [
    "# Load initial clustering\n",
    "label = loaded.load(label_file)"
   ]
  },
  {
   "cell_type": "code",
   "execution_count": 8,
   "metadata": {},
   "outputs": [
    {
     "name": "stdout",
     "output_type": "stream",
     "text": [
      "Data shape: (29696, 74)\n",
      "Label shape: (29696,)\n",
      "Unique labels: 172\n"
     ]
    }
   ],
   "source": [
    "# Filter data matrix and label array\n",
    "filtered_data = data[idx,:][:,features]\n",
    "print('Data shape: {:}'.format(filtered_data.shape))\n",
    "\n",
    "init_z_filtered = label[idx]\n",
    "print('Label shape: {:}'.format(init_z_filtered.shape))\n",
    "print('Unique labels: {:}'.format(len(np.unique(init_z_filtered))))"
   ]
  },
  {
   "cell_type": "code",
   "execution_count": 9,
   "metadata": {},
   "outputs": [
    {
     "name": "stdout",
     "output_type": "stream",
     "text": [
      "Remapped label shape: (29696,)\n",
      "Unique remapped labels: 172\n"
     ]
    }
   ],
   "source": [
    "lab2order = dict(zip(np.unique(init_z_filtered),np.arange(len(init_z_filtered))))\n",
    "order2lab = dict(zip(lab2order.values(),lab2order.keys()))\n",
    "\n",
    "init_z_remap = np.zeros((init_z_filtered.shape))\n",
    "\n",
    "for k in lab2order.keys():\n",
    "    idx = np.where(init_z_filtered == k)[0]\n",
    "    init_z_remap[idx] = lab2order[k]\n",
    "    \n",
    "print('Remapped label shape: {:}'.format(init_z_remap.shape))\n",
    "print('Unique remapped labels: {:}'.format(len(np.unique(init_z_remap))))"
   ]
  },
  {
   "cell_type": "code",
   "execution_count": 40,
   "metadata": {},
   "outputs": [],
   "source": [
    "# Set hyperparameters for prior / likelihood model\n",
    "alpha = 10\n",
    "mu_bar = np.zeros((filtered_data.shape[1],))\n",
    "kappa = 0.001\n",
    "nu = 150\n",
    "lambda_bar = np.eye(len(mu_bar)) + np.random.rand(filtered_data.shape[1])\n",
    "\n",
    "# Define prior\n",
    "niw = Priors.NIW(mu0 = mu_bar, kappa0=kappa, nu0=nu, lambda0=lambda_bar)"
   ]
  },
  {
   "cell_type": "code",
   "execution_count": 41,
   "metadata": {},
   "outputs": [
    {
     "data": {
      "text/plain": [
       "<module 'ddCRP.subgraphs' from '/Users/kristianeschenburg/Documents/Code/ddCRP/ddCRP/subgraphs.py'>"
      ]
     },
     "execution_count": 41,
     "metadata": {},
     "output_type": "execute_result"
    }
   ],
   "source": [
    "import importlib\n",
    "importlib.reload(ddCRP)\n",
    "importlib.reload(ddCRP.subgraphs)"
   ]
  },
  {
   "cell_type": "code",
   "execution_count": 42,
   "metadata": {},
   "outputs": [],
   "source": [
    "# Initialize ddCRP model\n",
    "crp = ddCRP.ddCRP(alpha=alpha, mcmc_passes=300, n_clusters=180, stats_interval=5, model=niw)"
   ]
  },
  {
   "cell_type": "code",
   "execution_count": null,
   "metadata": {},
   "outputs": [
    {
     "name": "stdout",
     "output_type": "stream",
     "text": [
      "\n",
      "Full\n",
      "Step: 0 Time: -1536562227.3047569 LP: -427816.94931985706 K: 192 MaxLP: -427816.94931985706\n",
      "Step: 5 Time: -1536562222.9475589 LP: -426357.8766637056 K: 192 MaxLP: -426357.8766637056\n",
      "Step: 10 Time: -1536562218.639071 LP: -426357.8766637056 K: 192 MaxLP: -426357.8766637056\n",
      "Step: 15 Time: -1536562214.361774 LP: -426322.5029144129 K: 192 MaxLP: -426322.5029144129\n",
      "Step: 20 Time: -1536562210.051107 LP: -426322.5029144129 K: 192 MaxLP: -426322.5029144129\n",
      "Step: 25 Time: -1536562205.751694 LP: -426066.9579232117 K: 192 MaxLP: -426066.9579232117\n",
      "Step: 30 Time: -1536562201.458952 LP: -426066.9579232117 K: 192 MaxLP: -426066.9579232117\n",
      "Step: 35 Time: -1536562197.1538298 LP: -425407.6212799563 K: 192 MaxLP: -425407.6212799563\n",
      "Step: 40 Time: -1536562192.878116 LP: -424430.57098295185 K: 193 MaxLP: -424430.57098295185\n",
      "Step: 45 Time: -1536562188.5288758 LP: -424341.983594564 K: 193 MaxLP: -424341.98359456396\n",
      "Step: 50 Time: -1536562184.141099 LP: -424341.983594564 K: 193 MaxLP: -424341.98359456396\n",
      "Step: 55 Time: -1536562179.783167 LP: -424296.02092812123 K: 193 MaxLP: -424296.02092812123\n",
      "Step: 60 Time: -1536562175.407429 LP: -424300.14933304116 K: 193 MaxLP: -424296.02092812123\n",
      "Step: 65 Time: -1536562171.0902798 LP: -424300.14933304116 K: 193 MaxLP: -424296.02092812123\n",
      "Step: 70 Time: -1536562166.7750819 LP: -424226.0728228474 K: 193 MaxLP: -424226.0728228474\n",
      "Step: 75 Time: -1536562162.363102 LP: -423447.1872756868 K: 194 MaxLP: -423447.1872756868\n",
      "Step: 80 Time: -1536562158.0097928 LP: -423331.62376257597 K: 194 MaxLP: -423331.62376257597\n",
      "Step: 85 Time: -1536562153.602648 LP: -423331.62376257597 K: 194 MaxLP: -423331.62376257597\n",
      "Step: 90 Time: -1536562149.8394818 LP: -423314.86805700324 K: 194 MaxLP: -423314.86805700324\n",
      "Step: 95 Time: -1536562145.4211428 LP: -423307.53691235586 K: 194 MaxLP: -423307.53691235586\n",
      "Step: 100 Time: -1536562141.0097308 LP: -423307.53691235586 K: 194 MaxLP: -423307.53691235586\n",
      "Step: 105 Time: -1536562136.6304069 LP: -423307.53691235586 K: 194 MaxLP: -423307.53691235586\n",
      "Step: 110 Time: -1536562132.2639449 LP: -423307.53691235586 K: 194 MaxLP: -423307.53691235586\n",
      "Step: 115 Time: -1536562127.8542018 LP: -423250.6549558712 K: 194 MaxLP: -423250.6549558712\n",
      "Step: 120 Time: -1536562123.5513709 LP: -423250.6549558712 K: 194 MaxLP: -423250.6549558712\n",
      "Step: 125 Time: -1536562119.1708438 LP: -423250.6549558713 K: 194 MaxLP: -423250.6549558712\n",
      "Step: 130 Time: -1536562114.8156898 LP: -423250.6549558713 K: 194 MaxLP: -423250.6549558712\n",
      "Step: 135 Time: -1536562110.3957639 LP: -423250.6549558713 K: 194 MaxLP: -423250.6549558712\n",
      "Step: 140 Time: -1536562106.027936 LP: -422713.52935505105 K: 194 MaxLP: -422713.52935505105\n",
      "Step: 145 Time: -1536562101.747341 LP: -422713.529355051 K: 194 MaxLP: -422713.529355051\n",
      "Step: 150 Time: -1536562097.15184 LP: -422709.9953259559 K: 194 MaxLP: -422709.9953259559\n",
      "Step: 155 Time: -1536562092.732538 LP: -422700.925627446 K: 195 MaxLP: -422700.925627446\n",
      "Step: 160 Time: -1536562088.357743 LP: -422700.925627446 K: 195 MaxLP: -422700.925627446\n",
      "Step: 165 Time: -1536562083.9489338 LP: -422406.73504577857 K: 195 MaxLP: -422406.73504577857\n",
      "Step: 170 Time: -1536562079.556593 LP: -422406.73504577857 K: 195 MaxLP: -422406.73504577857\n",
      "Step: 175 Time: -1536562075.1291199 LP: -422211.16615992034 K: 196 MaxLP: -422211.16615992034\n",
      "Step: 180 Time: -1536562070.7371428 LP: -422183.2864439415 K: 196 MaxLP: -422183.2864439415\n",
      "Step: 185 Time: -1536562066.270012 LP: -422183.2864439415 K: 196 MaxLP: -422183.2864439415\n",
      "Step: 190 Time: -1536562061.792157 LP: -422168.1021451238 K: 196 MaxLP: -422168.1021451238\n",
      "Step: 195 Time: -1536562057.375311 LP: -422063.9145233879 K: 197 MaxLP: -422063.9145233879\n",
      "Step: 200 Time: -1536562052.953559 LP: -422052.8184440247 K: 197 MaxLP: -422052.8184440247\n",
      "Step: 205 Time: -1536562048.499482 LP: -422019.54770532646 K: 197 MaxLP: -422019.54770532646\n",
      "Step: 210 Time: -1536562044.080216 LP: -422019.54770532646 K: 197 MaxLP: -422019.54770532646\n",
      "Step: 215 Time: -1536562039.677727 LP: -422019.54770532646 K: 197 MaxLP: -422019.54770532646\n",
      "Step: 220 Time: -1536562035.3761349 LP: -422019.54770532646 K: 197 MaxLP: -422019.54770532646\n",
      "Step: 225 Time: -1536562030.8862128 LP: -421993.0574702315 K: 197 MaxLP: -421993.0574702315\n",
      "Step: 230 Time: -1536562026.445416 LP: -421993.05747023143 K: 197 MaxLP: -421993.05747023143\n",
      "Step: 235 Time: -1536562022.014117 LP: -421885.86861813755 K: 197 MaxLP: -421885.86861813755\n",
      "Step: 240 Time: -1536562017.5312989 LP: -421155.54453479516 K: 197 MaxLP: -421155.54453479516\n",
      "Step: 245 Time: -1536562012.963845 LP: -421134.79187554406 K: 197 MaxLP: -421134.79187554406\n",
      "Step: 250 Time: -1536562008.4841168 LP: -421078.3371237462 K: 197 MaxLP: -421078.3371237462\n",
      "Step: 255 Time: -1536562004.013494 LP: -421047.2046570294 K: 197 MaxLP: -421047.2046570294\n",
      "Step: 260 Time: -1536561999.5966969 LP: -421039.232878532 K: 197 MaxLP: -421039.232878532\n",
      "Step: 265 Time: -1536561995.077077 LP: -421025.1042224504 K: 197 MaxLP: -421025.1042224504\n",
      "Step: 270 Time: -1536561990.6388938 LP: -421025.1042224504 K: 197 MaxLP: -421025.1042224504\n",
      "Step: 275 Time: -1536561986.187717 LP: -421025.1042224504 K: 197 MaxLP: -421025.1042224504\n",
      "Step: 280 Time: -1536561981.632669 LP: -421025.1042224504 K: 197 MaxLP: -421025.1042224504\n",
      "Step: 285 Time: -1536561977.210943 LP: -421025.1042224504 K: 197 MaxLP: -421025.1042224504\n",
      "Step: 290 Time: -1536561972.681408 LP: -420990.1239923117 K: 197 MaxLP: -420990.1239923117\n",
      "Step: 295 Time: -1536561968.2526019 LP: -420990.12399231177 K: 197 MaxLP: -420990.1239923117\n",
      "Step: 300 Time: -1536561963.821612 LP: -420984.99939108465 K: 197 MaxLP: -420984.99939108465\n",
      "Step: 305 Time: -1536561959.366302 LP: -420984.99939108465 K: 197 MaxLP: -420984.99939108465\n",
      "Step: 310 Time: -1536561954.917202 LP: -420984.99939108465 K: 197 MaxLP: -420984.99939108465\n",
      "Step: 315 Time: -1536561950.4805038 LP: -420978.48852315487 K: 197 MaxLP: -420978.48852315487\n",
      "Step: 320 Time: -1536561946.114009 LP: -420916.9465020463 K: 197 MaxLP: -420916.9465020463\n",
      "Step: 325 Time: -1536561941.609618 LP: -420806.40551192674 K: 197 MaxLP: -420806.40551192674\n",
      "Step: 330 Time: -1536561937.089082 LP: -420767.88324569084 K: 197 MaxLP: -420767.88324569084\n",
      "Step: 335 Time: -1536561932.6949608 LP: -420767.88324569084 K: 197 MaxLP: -420767.88324569084\n",
      "Step: 340 Time: -1536561928.2569919 LP: -420767.88324569084 K: 197 MaxLP: -420767.88324569084\n",
      "Step: 345 Time: -1536561923.770771 LP: -419018.90419213276 K: 197 MaxLP: -419018.90419213276\n",
      "Step: 350 Time: -1536561919.230563 LP: -418886.1383725718 K: 197 MaxLP: -418886.1383725718\n",
      "Step: 355 Time: -1536561914.725343 LP: -418886.1383725718 K: 197 MaxLP: -418886.1383725718\n",
      "Step: 360 Time: -1536561910.191882 LP: -418886.1383725718 K: 197 MaxLP: -418886.1383725718\n",
      "Step: 365 Time: -1536561905.673079 LP: -418870.4804456413 K: 197 MaxLP: -418870.4804456413\n",
      "Step: 370 Time: -1536561901.2183099 LP: -418870.4804456413 K: 197 MaxLP: -418870.4804456413\n",
      "Step: 375 Time: -1536561896.851096 LP: -418870.4804456413 K: 197 MaxLP: -418870.4804456413\n",
      "Step: 380 Time: -1536561892.3901238 LP: -418870.4804456413 K: 197 MaxLP: -418870.4804456413\n",
      "Step: 385 Time: -1536561887.9773488 LP: -418555.96583000314 K: 197 MaxLP: -418555.96583000314\n",
      "Step: 390 Time: -1536561883.6501539 LP: -418555.96583000314 K: 197 MaxLP: -418555.96583000314\n",
      "Step: 395 Time: -1536561879.2410738 LP: -418555.96583000314 K: 197 MaxLP: -418555.96583000314\n",
      "Step: 400 Time: -1536561874.8531668 LP: -418555.96583000314 K: 197 MaxLP: -418555.96583000314\n",
      "Step: 405 Time: -1536561870.4613528 LP: -418555.96583000314 K: 197 MaxLP: -418555.96583000314\n",
      "Step: 410 Time: -1536561866.018914 LP: -418552.7871687309 K: 197 MaxLP: -418552.7871687309\n",
      "Step: 415 Time: -1536561861.5856469 LP: -418440.89236276003 K: 197 MaxLP: -418440.89236276003\n",
      "Step: 420 Time: -1536561857.2111108 LP: -418264.14381632843 K: 198 MaxLP: -418264.14381632843\n",
      "Step: 425 Time: -1536561852.7410698 LP: -418264.1438163285 K: 198 MaxLP: -418264.14381632843\n",
      "Step: 430 Time: -1536561848.2484128 LP: -418264.1438163285 K: 198 MaxLP: -418264.14381632843\n",
      "Step: 435 Time: -1536561843.678671 LP: -418144.3357150195 K: 198 MaxLP: -418144.3357150195\n"
     ]
    }
   ],
   "source": [
    "# Fit model\n",
    "crp.fit(adj_list=filtered,features=filtered_data, init_z=init_z_remap)"
   ]
  },
  {
   "cell_type": "code",
   "execution_count": null,
   "metadata": {},
   "outputs": [],
   "source": []
  }
 ],
 "metadata": {
  "kernelspec": {
   "display_name": "Python 3",
   "language": "python",
   "name": "python3"
  },
  "language_info": {
   "codemirror_mode": {
    "name": "ipython",
    "version": 3
   },
   "file_extension": ".py",
   "mimetype": "text/x-python",
   "name": "python",
   "nbconvert_exporter": "python",
   "pygments_lexer": "ipython3",
   "version": "3.6.5"
  }
 },
 "nbformat": 4,
 "nbformat_minor": 2
}
