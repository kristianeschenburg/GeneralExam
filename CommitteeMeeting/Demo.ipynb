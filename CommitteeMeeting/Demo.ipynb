{
 "cells": [
  {
   "cell_type": "markdown",
   "metadata": {},
   "source": [
    "# How to use **ddCRP**:  An example with synthetic data"
   ]
  },
  {
   "cell_type": "markdown",
   "metadata": {},
   "source": [
    "This notebook is analogous to the documentation contained in the ReadMe.md file.  We begin by importing the necessary modules.  *ddCRP* contains the actual modeling algorithm, *Priors* contains the allowed prior models (Normal-Inverse-Chi-Squared and Normal-Inverse-Wishart), and *synthetic* contains methods for sampling synthetic data."
   ]
  },
  {
   "cell_type": "code",
   "execution_count": 15,
   "metadata": {},
   "outputs": [],
   "source": [
    "from ddCRP import ddCRP\n",
    "from ddCRP import Priors\n",
    "from ddCRP import synthetic\n",
    "\n",
    "import numpy as np\n",
    "np.random.seed(seed=2)"
   ]
  },
  {
   "cell_type": "markdown",
   "metadata": {},
   "source": [
    "Next, we define some parameters for generating our synthetic data.  In this case, we are sampling our synthetic data from a *Normal-Inverse-Chi-Squared* model:\n",
    "\n",
    "$$\n",
    "(\\mu,\\sigma) \\sim NI \\chi^{2} (\\mu_{0},\\kappa_{0}; \\nu_{0},\\sigma^{2}_{0})\n",
    "$$\n",
    "\n",
    "where $\\mu_{0}$ and $\\kappa_{0}$ are priors on the feature means, while $\\nu_{0}$ and $\\sigma^{2}_{0}$ are priors on the feature variance.\n",
    "\n",
    "Here, for each unique label in our synthetic data, we sample $d$ unique means and variances, and then sample feature vectors from a multivariate normal distribution with independent features (a.k.a. diagonal covariance matrix, and hence the Normal-Inverse-Chi-Squared model).\n",
    "\n",
    "We could just as easily skip the Normal-Inverse-Chi-Squared aspect, and simply define a set of multivariate Normal distributions.  However, in this way, we can see how hyperparameter tuning of our ddCRP model relates to the hyperparameters of our synthetic data model."
   ]
  },
  {
   "cell_type": "code",
   "execution_count": 2,
   "metadata": {},
   "outputs": [],
   "source": [
    "# dimensionality of data\n",
    "d = 5\n",
    "\n",
    "mu = 0\n",
    "kappa = 0.01\n",
    "nu = 70\n",
    "sigma= 1"
   ]
  },
  {
   "cell_type": "markdown",
   "metadata": {},
   "source": [
    "Next, we initialize a **SampleSynthetic** object. ```kind=ell``` defines what type of synthetic data we are modeling.  Options for this parmeter include ```['ell', 'stripes', 'face', 'square']```."
   ]
  },
  {
   "cell_type": "code",
   "execution_count": 3,
   "metadata": {},
   "outputs": [
    {
     "name": "stdout",
     "output_type": "stream",
     "text": [
      "Attributes of synth: \n",
      "\n",
      "['kind', 'd', 'mu0', 'kappa0', 'nu0', 'sigma0', 'z_', 'adj_list_', 'parcels_', 'params_', 'parcel_features_', 'features_']\n"
     ]
    }
   ],
   "source": [
    "synth = synthetic.SampleSynthetic(kind='face', d=d, mu0=0, kappa0=kappa, nu0=nu, sigma0=sigma)\n",
    "synth.fit()\n",
    "\n",
    "print('Attributes of synth: \\n')\n",
    "print(list(synth.__dict__.keys()))"
   ]
  },
  {
   "cell_type": "markdown",
   "metadata": {},
   "source": [
    "We're specifically interested in ```z_```, ```adj_list_```, and ```features_```.  ```z_``` represents the ground truth label map of our synthetic data, ```adj_list_``` is the adjancey list of our samples, and ```features_``` are the multivariate feature vectors of our data.\n",
    "\n",
    "Next, we initialize our prior model.  In this case, we'll use the **Normal-Inverse-Wishart** prior.  We need to define a multivariate mean vector prior $\\bar{\\mu_{0}}$, and a prior on the covariance matrix $\\bar{\\lambda_{0}}$ (for the inverse-Wishart distribution), along with $\\kappa_{0}$ and $\\nu_{0}$ as above."
   ]
  },
  {
   "cell_type": "code",
   "execution_count": 11,
   "metadata": {},
   "outputs": [],
   "source": [
    "Z = synth.z_.reshape(18,18)\n",
    "Z[:,9:] = 10"
   ]
  },
  {
   "cell_type": "code",
   "execution_count": 21,
   "metadata": {},
   "outputs": [],
   "source": [
    "Z = Z.reshape(np.product(Z.shape))\n",
    "indices = np.where(Z!=10)[0]\n",
    "remap_Z = Z[indices]\n",
    "\n",
    "features = synth.features_[indices,:]"
   ]
  },
  {
   "cell_type": "code",
   "execution_count": 17,
   "metadata": {},
   "outputs": [],
   "source": [
    "from surface_utilities import adjacency\n",
    "\n",
    "filt_adj = adjacency.SurfaceAdjacency.filtration(synth.adj_list_,filter_indices=indices,remap=True)"
   ]
  },
  {
   "cell_type": "code",
   "execution_count": 20,
   "metadata": {},
   "outputs": [],
   "source": [
    "from ddCRP import subgraphs"
   ]
  },
  {
   "cell_type": "code",
   "execution_count": 22,
   "metadata": {},
   "outputs": [
    {
     "name": "stdout",
     "output_type": "stream",
     "text": [
      "Rand Root: 141\n",
      "MST: 131\n",
      "Rand Root: 41\n",
      "MST: 9\n",
      "Rand Root: 113\n",
      "MST: 22\n",
      "Total Rand Roots: 3\n"
     ]
    }
   ],
   "source": [
    "[init_c, _, _] = ddCRP.subgraphs.ClusterSpanningTrees(filt_adj, remap_Z).fit()"
   ]
  },
  {
   "cell_type": "code",
   "execution_count": 25,
   "metadata": {},
   "outputs": [],
   "source": [
    "[c, G] = ddCRP.subgraphs.sparse_linkage(filt_adj, len(init_c), init_c)"
   ]
  },
  {
   "cell_type": "code",
   "execution_count": 30,
   "metadata": {},
   "outputs": [],
   "source": [
    "adj_list = filt_adj.copy()\n",
    "\n",
    "for k, v in adj_list.items():\n",
    "    adj_list[k] = list(np.asarray(v)[remap_Z[v] == remap_Z[k]])\n",
    "    adj_list[k] = list(np.random.permutation(adj_list[k]))"
   ]
  },
  {
   "cell_type": "code",
   "execution_count": 29,
   "metadata": {},
   "outputs": [
    {
     "name": "stdout",
     "output_type": "stream",
     "text": [
      "Parcels: 3\n"
     ]
    }
   ],
   "source": [
    "[K, z, parcels] = ddCRP.subgraphs.connected_components(G)\n",
    "print('Parcels: {:}'.format(K))"
   ]
  },
  {
   "cell_type": "code",
   "execution_count": 4,
   "metadata": {},
   "outputs": [],
   "source": [
    "mu_bar = np.zeros((d,))\n",
    "lambda_bar = np.random.rand(d,d) + np.eye(d)\n",
    "\n",
    "niw = Priors.NIW(mu0=mu_bar,kappa0=kappa,nu0=nu,lambda0=lambda_bar)"
   ]
  },
  {
   "cell_type": "markdown",
   "metadata": {},
   "source": [
    "Finally, we can initialize our ddCRP model.  We first need to define a \"concentration parameter\", $\\alpha$, that determines how likely points are to create new clusters or join an existing cluster.  We also provide some arguments that govern how many MCMC iterations we want to perform, and how often we want to sample and print out diagnostic information regarding the current state of our model."
   ]
  },
  {
   "cell_type": "code",
   "execution_count": 5,
   "metadata": {},
   "outputs": [
    {
     "name": "stdout",
     "output_type": "stream",
     "text": [
      "Rand Root: 307\n",
      "MST: 131\n",
      "Rand Root: 209\n",
      "MST: 131\n",
      "Rand Root: 113\n",
      "MST: 9\n",
      "Rand Root: 84\n",
      "MST: 9\n",
      "Rand Root: 244\n",
      "MST: 44\n",
      "Total Rand Roots: 5\n",
      "\n",
      "Full\n",
      "Step: 0 Time: -1536557732.4678838 LP: 806.2093782824941 K: 5 MaxLP: 806.2093782824941\n",
      "Step: 125 Time: -1536557731.700127 LP: 806.2093782824941 K: 5 MaxLP: 806.2093782824941\n",
      "Step: 250 Time: -1536557730.9546127 LP: 806.2093782824941 K: 5 MaxLP: 806.2093782824941\n",
      "Step: 375 Time: -1536557730.2575128 LP: 806.2093782824941 K: 5 MaxLP: 806.2093782824941\n",
      "Step: 500 Time: -1536557729.6013458 LP: 803.9067931895 K: 5 MaxLP: 806.2093782824941\n",
      "Step: 625 Time: -1536557728.943894 LP: 803.9067931894999 K: 5 MaxLP: 806.2093782824941\n",
      "Step: 750 Time: -1536557728.2834527 LP: 806.2093782824941 K: 5 MaxLP: 806.2093782824941\n",
      "Step: 875 Time: -1536557727.6221728 LP: 806.2093782824941 K: 5 MaxLP: 806.2093782824941\n",
      "Step: 1000 Time: -1536557726.968768 LP: 806.2093782824941 K: 5 MaxLP: 806.2093782824941\n",
      "Step: 1125 Time: -1536557726.2863848 LP: 803.9067931894999 K: 5 MaxLP: 806.2093782824941\n",
      "Step: 1250 Time: -1536557725.6153798 LP: 803.9067931894999 K: 5 MaxLP: 806.2093782824941\n",
      "Step: 1375 Time: -1536557724.9331098 LP: 803.9067931894999 K: 5 MaxLP: 806.2093782824941\n",
      "Step: 1500 Time: -1536557724.2657888 LP: 806.2093782824938 K: 5 MaxLP: 806.2093782824941\n",
      "Step: 1625 Time: -1536557723.6132228 LP: 806.2093782824938 K: 5 MaxLP: 806.2093782824941\n",
      "Step: 1750 Time: -1536557722.9507318 LP: 806.2093782824938 K: 5 MaxLP: 806.2093782824941\n",
      "Step: 1875 Time: -1536557722.2703168 LP: 806.2093782824938 K: 5 MaxLP: 806.2093782824941\n",
      "Step: 2000 Time: -1536557721.5904298 LP: 806.2093782824938 K: 5 MaxLP: 806.2093782824941\n",
      "Step: 2125 Time: -1536557720.9357119 LP: 806.2093782824938 K: 5 MaxLP: 806.2093782824941\n",
      "Step: 2250 Time: -1536557720.2908428 LP: 806.2093782824938 K: 5 MaxLP: 806.2093782824941\n",
      "Step: 2375 Time: -1536557719.6312568 LP: 806.2093782824936 K: 5 MaxLP: 806.2093782824941\n",
      "Step: 2500 Time: -1536557718.9559789 LP: 806.2093782824936 K: 5 MaxLP: 806.2093782824941\n",
      "Step: 2625 Time: -1536557718.2015347 LP: 803.9067931894996 K: 5 MaxLP: 806.2093782824941\n",
      "Step: 2750 Time: -1536557717.4998257 LP: 806.2093782824936 K: 5 MaxLP: 806.2093782824941\n",
      "Step: 2875 Time: -1536557716.7853398 LP: 806.2093782824936 K: 5 MaxLP: 806.2093782824941\n",
      "Step: 3000 Time: -1536557716.025349 LP: 806.2093782824936 K: 5 MaxLP: 806.2093782824941\n",
      "Step: 3125 Time: -1536557715.2844148 LP: 806.2093782824936 K: 5 MaxLP: 806.2093782824941\n",
      "Step: 3250 Time: -1536557714.5156229 LP: 803.9067931894997 K: 5 MaxLP: 806.2093782824941\n",
      "Step: 3375 Time: -1536557713.756636 LP: 803.9067931894997 K: 5 MaxLP: 806.2093782824941\n",
      "Step: 3500 Time: -1536557713.0044708 LP: 803.9067931894997 K: 5 MaxLP: 806.2093782824941\n",
      "Step: 3625 Time: -1536557712.2481349 LP: 806.2093782824938 K: 5 MaxLP: 806.2093782824941\n",
      "Step: 3750 Time: -1536557711.5231938 LP: 806.2093782824938 K: 5 MaxLP: 806.2093782824941\n",
      "Step: 3875 Time: -1536557710.772359 LP: 803.9067931894999 K: 5 MaxLP: 806.2093782824941\n",
      "Step: 4000 Time: -1536557710.0962968 LP: 803.9067931894999 K: 5 MaxLP: 806.2093782824941\n",
      "Step: 4125 Time: -1536557709.3565018 LP: 806.2093782824938 K: 5 MaxLP: 806.2093782824941\n",
      "Step: 4250 Time: -1536557708.6192858 LP: 806.2093782824938 K: 5 MaxLP: 806.2093782824941\n",
      "Step: 4375 Time: -1536557707.9334419 LP: 806.2093782824938 K: 5 MaxLP: 806.2093782824941\n",
      "Step: 4500 Time: -1536557707.259368 LP: 806.2093782824938 K: 5 MaxLP: 806.2093782824941\n",
      "Step: 4625 Time: -1536557706.5415688 LP: 806.2093782824938 K: 5 MaxLP: 806.2093782824941\n",
      "Step: 4750 Time: -1536557705.8607628 LP: 803.9067931894997 K: 5 MaxLP: 806.2093782824941\n",
      "Step: 4860 Time: -1536557705.2663198 LP: 803.9067931894999 K: 5 MaxLP: 806.2093782824941\n"
     ]
    }
   ],
   "source": [
    "alpha = 10\n",
    "\n",
    "crp = ddCRP.ddCRP(alpha, model=niw, mcmc_passes=15, stats_interval=125)\n",
    "crp.fit(synth.features_, synth.adj_list_,init_z=synth.z_)"
   ]
  },
  {
   "cell_type": "markdown",
   "metadata": {},
   "source": [
    "Now we can print out the our ground truth label map, the *maximum-a-posterior* label map (i.e. the label configuration that maximizes the marginal evidence of our feature data, and the intial (essentially random) map that the ddCRP model starts out with.  The actual label values (colors) are arbitrary, and don't convey any special meaning.\n",
    "\n",
    "Below the images are plots showing the number of clusters, marginal-evidence, and current *MAP*-evidence, each as a function of MCMC iterations (the sampling frequency is determined by the ```stats_interval``` parameter in the ddCRP model instantiation)."
   ]
  },
  {
   "cell_type": "code",
   "execution_count": 6,
   "metadata": {},
   "outputs": [
    {
     "data": {
      "image/png": "[encoded data removed]",
      "text/plain": [
       "<Figure size 720x432 with 6 Axes>"
      ]
     },
     "execution_count": 6,
     "metadata": {},
     "output_type": "execute_result"
    }
   ],
   "source": [
    "plot = synthetic.plot_synthetic(synth, crp, figsize=(10,6), cmap='plasma');\n",
    "plot"
   ]
  },
  {
   "cell_type": "code",
   "execution_count": null,
   "metadata": {},
   "outputs": [],
   "source": []
  }
 ],
 "metadata": {
  "kernelspec": {
   "display_name": "Python 3",
   "language": "python",
   "name": "python3"
  },
  "language_info": {
   "codemirror_mode": {
    "name": "ipython",
    "version": 3
   },
   "file_extension": ".py",
   "mimetype": "text/x-python",
   "name": "python",
   "nbconvert_exporter": "python",
   "pygments_lexer": "ipython3",
   "version": "3.6.5"
  }
 },
 "nbformat": 4,
 "nbformat_minor": 2
}
